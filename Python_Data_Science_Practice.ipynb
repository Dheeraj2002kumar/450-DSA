{
  "cells": [
    {
      "cell_type": "markdown",
      "metadata": {
        "id": "view-in-github",
        "colab_type": "text"
      },
      "source": [
        "<a href=\"https://colab.research.google.com/github/Dheeraj2002kumar/450-DSA/blob/master/Python_Data_Science_Practice.ipynb\" target=\"_parent\"><img src=\"https://colab.research.google.com/assets/colab-badge.svg\" alt=\"Open In Colab\"/></a>"
      ]
    },
    {
      "cell_type": "markdown",
      "id": "df54ddf1-e0f0-4a7b-aedc-1f18a4558652",
      "metadata": {
        "id": "df54ddf1-e0f0-4a7b-aedc-1f18a4558652"
      },
      "source": [
        "## Variables\n",
        "- Variables are the name or the memory location where data gets strored"
      ]
    },
    {
      "cell_type": "code",
      "execution_count": null,
      "id": "8bd23324-6b0d-4e9e-b38c-5aa28b5fce4a",
      "metadata": {
        "id": "8bd23324-6b0d-4e9e-b38c-5aa28b5fce4a",
        "outputId": "5f4b0f5b-c952-40c6-8de9-992711808d08"
      },
      "outputs": [
        {
          "name": "stdout",
          "output_type": "stream",
          "text": [
            "12\n"
          ]
        }
      ],
      "source": [
        "x = 12  # x is a variable and 12 is data\n",
        "print(x)  # print is a function that print the value on the screen"
      ]
    },
    {
      "cell_type": "code",
      "execution_count": null,
      "id": "7155827b-997e-4f51-896f-c756b0b0f07c",
      "metadata": {
        "id": "7155827b-997e-4f51-896f-c756b0b0f07c",
        "outputId": "a81e5ed8-0aa0-48d9-de6a-31189872cd51"
      },
      "outputs": [
        {
          "name": "stdout",
          "output_type": "stream",
          "text": [
            "Dheeraj\n"
          ]
        }
      ],
      "source": [
        "variable = 'Dheeraj';\n",
        "print(variable);"
      ]
    },
    {
      "cell_type": "markdown",
      "id": "7f1ad6b7-8c99-47ec-a354-c67b6cc79710",
      "metadata": {
        "id": "7f1ad6b7-8c99-47ec-a354-c67b6cc79710"
      },
      "source": [
        "### Rules for naming variables\n",
        "- A name can only contain alphabets, digits or underscore character.\n",
        "- A name can not start with a digit.\n",
        "- Names are case-sensitive.\n",
        "- Reserved keywords are not allowed for naming purpose."
      ]
    },
    {
      "cell_type": "code",
      "execution_count": null,
      "id": "b3168789-8583-4362-8629-0de5f5619499",
      "metadata": {
        "id": "b3168789-8583-4362-8629-0de5f5619499"
      },
      "outputs": [],
      "source": [
        "# Valid variable name\n",
        "x = 12;\n",
        "x1 = 12;\n",
        "x_ = 12;\n",
        "x_1 = 12;\n"
      ]
    },
    {
      "cell_type": "code",
      "execution_count": null,
      "id": "35a8529e-99a9-417f-a0b1-a03dacaed981",
      "metadata": {
        "id": "35a8529e-99a9-417f-a0b1-a03dacaed981",
        "outputId": "28d1c10b-d08f-4abb-a98e-8d3ee7fe0baa"
      },
      "outputs": [
        {
          "ename": "SyntaxError",
          "evalue": "invalid decimal literal (619581456.py, line 4)",
          "output_type": "error",
          "traceback": [
            "\u001b[1;36m  Cell \u001b[1;32mIn[5], line 4\u001b[1;36m\u001b[0m\n\u001b[1;33m    1x = 12\u001b[0m\n\u001b[1;37m    ^\u001b[0m\n\u001b[1;31mSyntaxError\u001b[0m\u001b[1;31m:\u001b[0m invalid decimal literal\n"
          ]
        }
      ],
      "source": [
        "# Invalid variable name\n",
        "x@ = 12;\n",
        "x!_1 = 12;\n",
        "1x = 12"
      ]
    },
    {
      "cell_type": "code",
      "execution_count": null,
      "id": "d4d1febb-4228-402d-b10e-3ebf16d3cb9d",
      "metadata": {
        "id": "d4d1febb-4228-402d-b10e-3ebf16d3cb9d"
      },
      "outputs": [],
      "source": [
        "x = 12;\n",
        "x = 50;"
      ]
    },
    {
      "cell_type": "code",
      "execution_count": null,
      "id": "8cb0e5e8-d095-477f-9210-1fa0818ed8c3",
      "metadata": {
        "id": "8cb0e5e8-d095-477f-9210-1fa0818ed8c3",
        "outputId": "814a98e0-3bf4-49cc-fb48-8708ea356987"
      },
      "outputs": [
        {
          "name": "stdout",
          "output_type": "stream",
          "text": [
            "50\n"
          ]
        }
      ],
      "source": [
        "print(x)"
      ]
    },
    {
      "cell_type": "code",
      "execution_count": null,
      "id": "a38c8026-2bc5-4426-8740-39ceb3246bff",
      "metadata": {
        "id": "a38c8026-2bc5-4426-8740-39ceb3246bff",
        "outputId": "cfa6db11-73aa-41a1-811a-8518b388b331"
      },
      "outputs": [
        {
          "ename": "SyntaxError",
          "evalue": "invalid syntax (1147040890.py, line 3)",
          "output_type": "error",
          "traceback": [
            "\u001b[1;36m  Cell \u001b[1;32mIn[8], line 3\u001b[1;36m\u001b[0m\n\u001b[1;33m    if = 50; # if is a pre-defined keyword in Python which already has a different meaning\u001b[0m\n\u001b[1;37m       ^\u001b[0m\n\u001b[1;31mSyntaxError\u001b[0m\u001b[1;31m:\u001b[0m invalid syntax\n"
          ]
        }
      ],
      "source": [
        "x = 11;\n",
        "\n",
        "if = 50; # if is a pre-defined keyword in Python which already has a different meaning"
      ]
    },
    {
      "cell_type": "code",
      "execution_count": null,
      "id": "df1c0303-04d2-4475-85a2-9a49cf1e972e",
      "metadata": {
        "id": "df1c0303-04d2-4475-85a2-9a49cf1e972e"
      },
      "outputs": [],
      "source": [
        "finally1 = 24;"
      ]
    },
    {
      "cell_type": "code",
      "execution_count": null,
      "id": "12801015-1b2b-4324-9416-552b4ec7e78f",
      "metadata": {
        "id": "12801015-1b2b-4324-9416-552b4ec7e78f",
        "outputId": "8ba9d615-fbf7-42c0-8919-767035e4e904"
      },
      "outputs": [
        {
          "ename": "SyntaxError",
          "evalue": "invalid syntax (2236298162.py, line 1)",
          "output_type": "error",
          "traceback": [
            "\u001b[1;36m  Cell \u001b[1;32mIn[10], line 1\u001b[1;36m\u001b[0m\n\u001b[1;33m    finally = 34; # finally is a pre-defined keyword in Python which already has a different meaning\u001b[0m\n\u001b[1;37m    ^\u001b[0m\n\u001b[1;31mSyntaxError\u001b[0m\u001b[1;31m:\u001b[0m invalid syntax\n"
          ]
        }
      ],
      "source": [
        "finally = 34; # finally is a pre-defined keyword in Python which already has a different meaning"
      ]
    },
    {
      "cell_type": "markdown",
      "id": "c98c6655-8319-4494-812c-01ec6aef2127",
      "metadata": {
        "id": "c98c6655-8319-4494-812c-01ec6aef2127"
      },
      "source": [
        "### Data Types in Python\n",
        "\n",
        "- Non-Sequence Data Types\n",
        "  1. Integers (int)\n",
        "  2. Decimal Point Number (float)\n",
        "  3. Complex numbers (complex)\n",
        "  4. Boolean (bool)\n",
        "     \n",
        "- Sequence Data Type (Inbuilt Data Structures in Python)\n",
        "  - Indexable sequence\n",
        "    1. String\n",
        "    2. List\n",
        "    3. Tuple\n",
        "\n",
        "  - Non-indexable Sequence\n",
        "    1. dictionary\n",
        "    2. Set"
      ]
    },
    {
      "cell_type": "code",
      "execution_count": null,
      "id": "07e949e0-4020-4b68-a0a2-1753b6ba1c18",
      "metadata": {
        "id": "07e949e0-4020-4b68-a0a2-1753b6ba1c18"
      },
      "outputs": [],
      "source": []
    }
  ],
  "metadata": {
    "kernelspec": {
      "display_name": "Python 3 (ipykernel)",
      "language": "python",
      "name": "python3"
    },
    "language_info": {
      "codemirror_mode": {
        "name": "ipython",
        "version": 3
      },
      "file_extension": ".py",
      "mimetype": "text/x-python",
      "name": "python",
      "nbconvert_exporter": "python",
      "pygments_lexer": "ipython3",
      "version": "3.11.5"
    },
    "colab": {
      "provenance": [],
      "include_colab_link": true
    }
  },
  "nbformat": 4,
  "nbformat_minor": 5
}